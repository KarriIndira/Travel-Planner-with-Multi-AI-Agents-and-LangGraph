{
  "nbformat": 4,
  "nbformat_minor": 0,
  "metadata": {
    "colab": {
      "provenance": []
    },
    "kernelspec": {
      "name": "python3",
      "display_name": "Python 3"
    },
    "language_info": {
      "name": "python"
    }
  },
  "cells": [
    {
      "cell_type": "code",
      "source": [
        "import gradio as gr\n",
        "from typing import TypedDict, Annotated, List\n",
        "from langgraph.graph import StateGraph, END\n",
        "from langchain_core.messages import HumanMessage, AIMessage\n",
        "from langchain_core.prompts import ChatPromptTemplate\n",
        "from langchain_groq import ChatGroq\n",
        "\n",
        "# Define LLM\n",
        "llm = ChatGroq(\n",
        "    temperature=0,\n",
        "    groq_api_key=\"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\",\n",
        "    model_name=\"llama3-70b-8192\"\n",
        ")\n",
        "\n",
        "# === Shared State ===\n",
        "class PlannerState(TypedDict):\n",
        "    messages: Annotated[List[HumanMessage | AIMessage], \"Conversation history\"]\n",
        "    city: str\n",
        "    interests: List[str]\n",
        "    days: int\n",
        "    itinerary: str\n",
        "    image_urls: List[str]\n",
        "\n",
        "# === Agent 1: Interest Interpreter ===\n",
        "def interest_agent(state: PlannerState) -> PlannerState:\n",
        "    parsed_interests = [i.strip() for i in state[\"messages\"][-1].content.split(',')]\n",
        "    state[\"interests\"] = parsed_interests\n",
        "    return state\n",
        "\n",
        "# === Agent 2: Itinerary Builder ===\n",
        "itinerary_prompt = ChatPromptTemplate.from_messages([\n",
        "    (\"system\", \"You are a travel assistant. Create a {days}-day itinerary for {city} based on these interests: {interests}. Use bullet points.\"),\n",
        "    (\"human\", \"Plan my trip.\")\n",
        "])\n",
        "\n",
        "def itinerary_agent(state: PlannerState) -> PlannerState:\n",
        "    msg = itinerary_prompt.format_messages(\n",
        "        city=state[\"city\"],\n",
        "        interests=\", \".join(state[\"interests\"]),\n",
        "        days=state[\"days\"]\n",
        "    )\n",
        "    response = llm.invoke(msg)\n",
        "    state[\"itinerary\"] = response.content\n",
        "    state[\"messages\"].append(AIMessage(content=response.content))\n",
        "    return state\n",
        "\n",
        "# === Agent 3: Image Search Agent ===\n",
        "def image_agent(state: PlannerState) -> PlannerState:\n",
        "    def get_image_url(query):\n",
        "      return f\"https://picsum.photos/seed/{query}/600/400\"\n",
        "\n",
        "    state[\"image_urls\"] = [get_image_url(i) for i in state[\"interests\"]]\n",
        "    return state\n",
        "\n",
        "# === Graph Setup ===\n",
        "builder = StateGraph(PlannerState)\n",
        "builder.add_node(\"InterestInterpreter\", interest_agent)\n",
        "builder.add_node(\"ItineraryBuilder\", itinerary_agent)\n",
        "builder.add_node(\"ImageSearch\", image_agent)\n",
        "\n",
        "builder.set_entry_point(\"InterestInterpreter\")\n",
        "builder.add_edge(\"InterestInterpreter\", \"ItineraryBuilder\")\n",
        "builder.add_edge(\"ItineraryBuilder\", \"ImageSearch\")\n",
        "builder.add_edge(\"ImageSearch\", END)\n",
        "\n",
        "app_graph = builder.compile()\n",
        "\n",
        "# === Main Function ===\n",
        "def travel_planner(city: str, interests: str, days: int):\n",
        "    initial_state: PlannerState = {\n",
        "        \"messages\": [HumanMessage(content=interests)],\n",
        "        \"city\": city,\n",
        "        \"interests\": [],\n",
        "        \"days\": days,\n",
        "        \"itinerary\": \"\",\n",
        "        \"image_urls\": [],\n",
        "    }\n",
        "\n",
        "    final_state = app_graph.invoke(initial_state)\n",
        "\n",
        "    image_html = \"\".join([\n",
        "    f\"<div style='display:inline-block;margin:10px;text-align:center'>\"\n",
        "    f\"<img src='{url}' width='250' height='160' style='border-radius:10px;box-shadow:0 0 10px rgba(0,0,0,0.3);'/><br>\"\n",
        "    f\"<p style='font-size:14px'>{interest}</p>\"\n",
        "    f\"</div>\"\n",
        "    for interest, url in zip(final_state[\"interests\"], final_state[\"image_urls\"])\n",
        "])\n",
        "\n",
        "    return f\"### Your {days}-Day Itinerary for {city}\\n\\n{final_state['itinerary']}\", image_html\n",
        "\n",
        "# === Gradio Interface ===\n",
        "interface = gr.Interface(\n",
        "    fn=travel_planner,\n",
        "    theme='Yntec/HaleyCH_Theme_Orange_Green',\n",
        "    inputs=[\n",
        "        gr.Textbox(label=\"Enter the city for your trip\"),\n",
        "        gr.Textbox(label=\"Enter your interests (comma-separated)\"),\n",
        "        gr.Slider(1, 5, step=1, label=\"Number of Days\")\n",
        "    ],\n",
        "    outputs=[\n",
        "        gr.Markdown(label=\"Generated Itinerary\"),\n",
        "        gr.HTML(label=\"Visual Suggestions\")\n",
        "    ],\n",
        "    title=\"🌍 Multi-Agent AI Travel Planner\",\n",
        "    description=\"An intelligent travel planner using multiple agents to understand interests, generate itineraries, and suggest images.\"\n",
        ")\n",
        "\n",
        "interface.launch()\n"
      ],
      "metadata": {
        "colab": {
          "base_uri": "https://localhost:8080/",
          "height": 646
        },
        "id": "JLCCTAVDMrew",
        "outputId": "acb10bf0-577b-471e-f553-28f3fbd8859e"
      },
      "execution_count": 7,
      "outputs": [
        {
          "output_type": "stream",
          "name": "stdout",
          "text": [
            "It looks like you are running Gradio on a hosted a Jupyter notebook. For the Gradio app to work, sharing must be enabled. Automatically setting `share=True` (you can turn this off by setting `share=False` in `launch()` explicitly).\n",
            "\n",
            "Colab notebook detected. To show errors in colab notebook, set debug=True in launch()\n",
            "* Running on public URL: https://02e8b5875a765810b0.gradio.live\n",
            "\n",
            "This share link expires in 1 week. For free permanent hosting and GPU upgrades, run `gradio deploy` from the terminal in the working directory to deploy to Hugging Face Spaces (https://huggingface.co/spaces)\n"
          ]
        },
        {
          "output_type": "display_data",
          "data": {
            "text/plain": [
              "<IPython.core.display.HTML object>"
            ],
            "text/html": [
              "<div><iframe src=\"https://02e8b5875a765810b0.gradio.live\" width=\"100%\" height=\"500\" allow=\"autoplay; camera; microphone; clipboard-read; clipboard-write;\" frameborder=\"0\" allowfullscreen></iframe></div>"
            ]
          },
          "metadata": {}
        },
        {
          "output_type": "execute_result",
          "data": {
            "text/plain": []
          },
          "metadata": {},
          "execution_count": 7
        }
      ]
    },
    {
      "cell_type": "code",
      "source": [
        "# Multi-Agent AI Travel Planner using LangGraph\n",
        "\n",
        "from typing import TypedDict, Annotated, List\n",
        "from langgraph.graph import StateGraph, END\n",
        "from langchain_core.messages import HumanMessage, AIMessage\n",
        "from langchain_core.prompts import ChatPromptTemplate\n",
        "from langchain_groq import ChatGroq\n",
        "\n",
        "# === Setup LLM ===\n",
        "llm = ChatGroq(\n",
        "    temperature=0,\n",
        "    groq_api_key=\"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\",\n",
        "    model_name=\"llama3-70b-8192\"\n",
        ")\n",
        "\n",
        "# === Shared State ===\n",
        "class PlannerState(TypedDict):\n",
        "    messages: Annotated[List[HumanMessage | AIMessage], \"Conversation history\"]\n",
        "    city: str\n",
        "    interests: List[str]\n",
        "    days: int\n",
        "    itinerary: str\n",
        "    image_urls: List[str]\n",
        "    budget: str\n",
        "    food: str\n",
        "    transport: str\n",
        "\n",
        "# === Agent 1: Interest Interpreter ===\n",
        "def interest_agent(state: PlannerState) -> PlannerState:\n",
        "    parsed_interests = [i.strip() for i in state[\"messages\"][-1].content.split(',')]\n",
        "    state[\"interests\"] = parsed_interests\n",
        "    return state\n",
        "\n",
        "# === Agent 2: Itinerary Builder ===\n",
        "itinerary_prompt = ChatPromptTemplate.from_messages([\n",
        "    (\"system\", \"Create a {days}-day itinerary for {city} based on these interests: {interests}. Use bullet points.\"),\n",
        "    (\"human\", \"Plan my trip.\")\n",
        "])\n",
        "\n",
        "def itinerary_agent(state: PlannerState) -> PlannerState:\n",
        "    msg = itinerary_prompt.format_messages(\n",
        "        city=state[\"city\"],\n",
        "        interests=\", \".join(state[\"interests\"]),\n",
        "        days=state[\"days\"]\n",
        "    )\n",
        "    response = llm.invoke(msg)\n",
        "    state[\"itinerary\"] = response.content\n",
        "    state[\"messages\"].append(AIMessage(content=response.content))\n",
        "    return state\n",
        "\n",
        "# === Agent 3: Image Search ===\n",
        "def image_agent(state: PlannerState) -> PlannerState:\n",
        "    def get_image_url(query):\n",
        "        return f\"https://picsum.photos/seed/{query}/600/400\"\n",
        "    state[\"image_urls\"] = [get_image_url(i) for i in state[\"interests\"]]\n",
        "    return state\n",
        "\n",
        "# === Agent 4: Budget Estimator ===\n",
        "budget_prompt = ChatPromptTemplate.from_messages([\n",
        "    (\"system\", \"Estimate a budget for a {days}-day trip to {city} with interests: {interests}. Include travel, food, stay, and fun.\"),\n",
        "    (\"human\", \"How much should I plan to spend?\")\n",
        "])\n",
        "\n",
        "def budget_agent(state: PlannerState) -> PlannerState:\n",
        "    msg = budget_prompt.format_messages(\n",
        "        city=state[\"city\"],\n",
        "        interests=\", \".join(state[\"interests\"]),\n",
        "        days=state[\"days\"]\n",
        "    )\n",
        "    response = llm.invoke(msg)\n",
        "    state[\"budget\"] = response.content\n",
        "    return state\n",
        "\n",
        "# === Agent 5: Food Advisor ===\n",
        "food_prompt = ChatPromptTemplate.from_messages([\n",
        "    (\"system\", \"Suggest must-try foods and popular restaurants in {city} for someone interested in {interests}.\"),\n",
        "    (\"human\", \"What should I eat?\")\n",
        "])\n",
        "\n",
        "def food_agent(state: PlannerState) -> PlannerState:\n",
        "    msg = food_prompt.format_messages(\n",
        "        city=state[\"city\"],\n",
        "        interests=\", \".join(state[\"interests\"])\n",
        "    )\n",
        "    response = llm.invoke(msg)\n",
        "    state[\"food\"] = response.content\n",
        "    return state\n",
        "\n",
        "# === Agent 6: Local Transport Advisor ===\n",
        "transport_prompt = ChatPromptTemplate.from_messages([\n",
        "    (\"system\", \"List best local transport options in {city} for tourists: metro, taxi, auto, bike rentals, etc.\"),\n",
        "    (\"human\", \"How should I travel locally?\")\n",
        "])\n",
        "\n",
        "def transport_agent(state: PlannerState) -> PlannerState:\n",
        "    msg = transport_prompt.format_messages(city=state[\"city\"])\n",
        "    response = llm.invoke(msg)\n",
        "    state[\"transport\"] = response.content\n",
        "    return state\n",
        "\n",
        "# === Define Graph ===\n",
        "builder = StateGraph(PlannerState)\n",
        "\n",
        "builder.add_node(\"InterestInterpreter\", interest_agent)\n",
        "builder.add_node(\"ItineraryBuilder\", itinerary_agent)\n",
        "builder.add_node(\"ImageSearch\", image_agent)\n",
        "builder.add_node(\"BudgetEstimator\", budget_agent)\n",
        "builder.add_node(\"FoodAdvisor\", food_agent)\n",
        "builder.add_node(\"LocalTransport\", transport_agent)\n",
        "\n",
        "builder.set_entry_point(\"InterestInterpreter\")\n",
        "builder.add_edge(\"InterestInterpreter\", \"ItineraryBuilder\")\n",
        "builder.add_edge(\"ItineraryBuilder\", \"ImageSearch\")\n",
        "builder.add_edge(\"ImageSearch\", \"BudgetEstimator\")\n",
        "builder.add_edge(\"BudgetEstimator\", \"FoodAdvisor\")\n",
        "builder.add_edge(\"FoodAdvisor\", \"LocalTransport\")\n",
        "builder.add_edge(\"LocalTransport\", END)\n",
        "\n",
        "app_graph = builder.compile()\n",
        "\n",
        "# === Inference Function ===\n",
        "def run_travel_planner(city: str, interests: str, days: int):\n",
        "    state: PlannerState = {\n",
        "        \"messages\": [HumanMessage(content=interests)],\n",
        "        \"city\": city,\n",
        "        \"interests\": [],\n",
        "        \"days\": days,\n",
        "        \"itinerary\": \"\",\n",
        "        \"image_urls\": [],\n",
        "        \"budget\": \"\",\n",
        "        \"food\": \"\",\n",
        "        \"transport\": \"\"\n",
        "    }\n",
        "\n",
        "    result = app_graph.invoke(state)\n",
        "\n",
        "    summary = f\"\"\"\n",
        "### {days}-Day Itinerary for {city}\n",
        "\n",
        "{result['itinerary']}\n",
        "\n",
        "---\n",
        "\n",
        "### Estimated Budget\n",
        "{result['budget']}\n",
        "\n",
        "### Local Transport Options\n",
        "{result['transport']}\n",
        "\n",
        "### Must-Try Foods & Restaurants\n",
        "{result['food']}\n",
        "\"\"\"\n",
        "\n",
        "    image_html = \"\".join([\n",
        "        f\"<div style='display:inline-block;margin:10px;text-align:center'>\"\n",
        "        f\"<img src='{url}' width='250' height='160' style='border-radius:10px;'/><br>\"\n",
        "        f\"<p style='font-size:14px'>{interest}</p>\"\n",
        "        f\"</div>\"\n",
        "        for interest, url in zip(result['interests'], result['image_urls'])\n",
        "    ])\n",
        "\n",
        "    return summary, image_html\n",
        "import gradio as gr\n",
        "\n",
        "interface = gr.Interface(\n",
        "    fn=run_travel_planner,\n",
        "    theme='Yntec/HaleyCH_Theme_Orange_Green',\n",
        "    inputs=[\n",
        "        gr.Textbox(label=\"City\", placeholder=\"e.g., Goa\"),\n",
        "        gr.Textbox(label=\"Interests (comma-separated)\", placeholder=\"e.g., beaches, food, parties\"),\n",
        "        gr.Slider(1, 10, value=3, step=1, label=\"Number of Days\")\n",
        "    ],\n",
        "    outputs=[\n",
        "        gr.Markdown(label=\"Trip Summary\"),\n",
        "        gr.HTML(label=\"Visual Suggestions\")\n",
        "    ],\n",
        "    title=\"🌍 Multi-Agent AI Travel Planner\",\n",
        "    description=\"Get a personalized itinerary, budget, food advice, and travel tips for your next trip!\"\n",
        ")\n",
        "\n",
        "interface.launch()\n",
        "\n"
      ],
      "metadata": {
        "colab": {
          "base_uri": "https://localhost:8080/",
          "height": 646
        },
        "id": "y_SuQo6FOKoZ",
        "outputId": "7d858522-9d1c-49bf-88ba-218076c0880b"
      },
      "execution_count": 11,
      "outputs": [
        {
          "output_type": "stream",
          "name": "stdout",
          "text": [
            "It looks like you are running Gradio on a hosted a Jupyter notebook. For the Gradio app to work, sharing must be enabled. Automatically setting `share=True` (you can turn this off by setting `share=False` in `launch()` explicitly).\n",
            "\n",
            "Colab notebook detected. To show errors in colab notebook, set debug=True in launch()\n",
            "* Running on public URL: https://e8558e6cfee61f4d17.gradio.live\n",
            "\n",
            "This share link expires in 1 week. For free permanent hosting and GPU upgrades, run `gradio deploy` from the terminal in the working directory to deploy to Hugging Face Spaces (https://huggingface.co/spaces)\n"
          ]
        },
        {
          "output_type": "display_data",
          "data": {
            "text/plain": [
              "<IPython.core.display.HTML object>"
            ],
            "text/html": [
              "<div><iframe src=\"https://e8558e6cfee61f4d17.gradio.live\" width=\"100%\" height=\"500\" allow=\"autoplay; camera; microphone; clipboard-read; clipboard-write;\" frameborder=\"0\" allowfullscreen></iframe></div>"
            ]
          },
          "metadata": {}
        },
        {
          "output_type": "execute_result",
          "data": {
            "text/plain": []
          },
          "metadata": {},
          "execution_count": 11
        }
      ]
    },
    {
      "cell_type": "code",
      "source": [
        "result, images = run_travel_planner(\"Goa\", \"beach, nightlife, food\", 3)\n",
        "from IPython.display import display, Markdown, HTML\n",
        "\n",
        "display(Markdown(result))\n",
        "display(HTML(images))\n"
      ],
      "metadata": {
        "colab": {
          "base_uri": "https://localhost:8080/",
          "height": 1000
        },
        "id": "EzJgVHDQQWZT",
        "outputId": "898b1440-d94b-4213-9aa1-d78c8fa32a6d"
      },
      "execution_count": 9,
      "outputs": [
        {
          "output_type": "display_data",
          "data": {
            "text/plain": [
              "<IPython.core.display.Markdown object>"
            ],
            "text/markdown": "\n### 3-Day Itinerary for Goa\n\nHere's a 3-day itinerary for Goa based on your interests in beach, nightlife, and food:\n\n**Day 1: Beaches and Local Cuisine**\n\n* Morning: Start with a relaxing morning at Palolem Beach, known for its picturesque views and calm waters. You can take a leisurely walk along the shore, or try your hand at water sports like kayaking or paddleboarding.\n* Lunch: Head to The Fish Factory at Palolem, which serves fresh seafood and local delicacies like fish curry and rice.\n* Afternoon: Visit the nearby Patnem Beach, which is quieter and more secluded than Palolem. You can relax and soak up the sun here.\n* Evening: For dinner, try out some local Goan cuisine at Huts and Shacks, a popular eatery at Palolem. Don't miss their thali, which includes a variety of local dishes.\n* Night: End the day with a relaxing evening at Palolem's Silent Noise Party, where you can groove to music while wearing wireless headphones.\n\n**Day 2: North Goa and Nightlife\n\n* Morning: Head to North Goa and visit the popular Baga Beach, known for its vibrant atmosphere and water sports.\n* Lunch: Grab a bite at one of the many shacks along the beach, like Britto's or Larios. Don't miss their seafood and local snacks like pani puri and bhel puri.\n* Afternoon: Visit the nearby Anjuna Beach, which is famous for its flea market and vibrant atmosphere.\n* Evening: For dinner, try out some international cuisine at Hill Top, a popular restaurant in Vagator. They serve a range of dishes, from Italian to Indian.\n* Night: Experience Goa's nightlife at Club Cubana, a popular club in Arpora. Dance the night away with friends!\n\n**Day 3: Foodie Delights and Beach Hopping**\n\n* Morning: Start the day with a visit to the famous Calangute Beach, which is bustling with tourists and locals alike.\n* Lunch: Head to the popular Infantaria Bakery and Cafe, known for its mouth-watering desserts and sandwiches.\n* Afternoon: Visit the nearby Candolim Beach, which is quieter and more secluded than Calangute. You can relax and soak up the sun here.\n* Evening: For dinner, try out some gourmet cuisine at Gunpowder, a popular restaurant in Assagao. They offer a range of dishes, including local specialties like fish curry and rice.\n* Night: End the day with a relaxing evening at a beach shack, watching the stars and listening to the sound of the waves.\n\nThis itinerary should give you a good mix of beach time, local cuisine, and nightlife. Enjoy your trip to Goa!\n\n---\n\n### Estimated Budget\nA 3-day trip to Goa can vary greatly depending on your travel style, accommodation choices, and activities. Here's a rough estimate of a budget for a 3-day trip to Goa:**\n\n**Travel:**\n\n* Round-trip flights from a major Indian city (e.g., Delhi, Mumbai, Bengaluru): ₹8,000 - ₹15,000 (approximately $110-$200 USD)\n* Train or bus tickets: ₹2,000 - ₹5,000 (approximately $28-$70 USD)\n\n**Accommodation:**\n\n* Budget-friendly options: ₹1,500 - ₹3,000 (approximately $20-$40 USD) per night for a hostel or guesthouse\n* Mid-range options: ₹3,000 - ₹6,000 (approximately $40-$80 USD) per night for a hotel or resort\n* Luxury options: ₹8,000 - ₹15,000 (approximately $110-$200 USD) per night for a luxury resort or villa\n\n**Food:**\n\n* Street food and local eateries: ₹200 - ₹500 (approximately $2.80-$7 USD) per meal\n* Mid-range restaurants: ₹500 - ₹1,000 (approximately $7-$14 USD) per meal\n* Fine dining: ₹1,500 - ₹3,000 (approximately $20-$40 USD) per meal\n\n**Fun and activities:**\n\n* Beach activities (e.g., water sports, sunbeds): ₹500 - ₹1,000 (approximately $7-$14 USD) per day\n* Nightlife (e.g., club entry, drinks): ₹1,000 - ₹2,000 (approximately $14-$28 USD) per night\n* Sightseeing (e.g., Fort Aguada, Dudhsagar Falls): ₹500 - ₹1,000 (approximately $7-$14 USD) per person\n\n**Total estimated budget:**\n\n* Budget-friendly: ₹20,000 - ₹35,000 (approximately $280-$490 USD) for 3 days\n* Mid-range: ₹35,000 - ₹60,000 (approximately $490-$840 USD) for 3 days\n* Luxury: ₹60,000 - ₹1,20,000 (approximately $840-$1,680 USD) for 3 days\n\nKeep in mind that these are rough estimates, and your actual expenses may vary depending on your specific travel plans and preferences. Additionally, prices may be higher during peak season (December to February).\n\nRemember to also budget for any additional expenses, such as souvenirs, transportation within Goa, and any additional activities or excursions you might want to do.\n\n### Local Transport Options\nGoa! There are several local transport options in Goa that are convenient, affordable, and fun. Here are some of the best local transport options in Goa:\n\n1. **Two-Wheelers (Bikes and Scooters) on Hire**: This is the most popular mode of transport in Goa. You can rent a bike or scooter for a day (₹300-₹500) or longer periods. Many rental shops are available near popular beaches and tourist areas.\n2. **Taxis**: Taxis are widely available, but they can be more expensive than two-wheelers. You can hire a taxi for a day (₹800-₹1,200) or pay by the kilometer (₹8-₹12 per km).\n3. **Auto Rickshaws**: Autos are a good option for short distances. They are widely available, but be prepared to negotiate the fare.\n4. **Local Buses**: The Kadamba Transport Corporation (KTC) operates bus services across Goa. They are an affordable option (₹10-₹50) but may not be as frequent as other modes of transport.\n5. **Ferries**: If you want to explore the rivers and backwaters of Goa, ferries are a great option. They operate between various points, including Panaji, Old Goa, and Vasco da Gama.\n6. **Rent a Car**: If you prefer to drive a car, there are many rental services in Goa. This option is more expensive than two-wheelers, but convenient for groups or families.\n7. **App-based Taxi Services**: Ola and other app-based taxi services are available in Goa, but they may not be as frequent as in larger cities.\n8. **Be sure to wear a helmet**: If you rent a two-wheeler, always wear a helmet to avoid fines and ensure your safety.\n\n**Before you rent a vehicle, make sure to:**\n\n* Check the vehicle's condition\n* Negotiate the fare or rental charges\n* Ensure you have a valid driving license\n* Wear a helmet (if renting a two-wheeler)\n\n**Tips:**\n\n* Drive safely and defensively, as Goa's roads can be chaotic.\n* Be aware of pedestrians, cyclists, and other vehicles.\n* Avoid driving at night, if possible.\n\nNow, get ready to explore the beauty of Goa!\n\n### Must-Try Foods & Restaurants\nGoa is a foodie's paradise! You'll discover a unique blend of Konkani, Portuguese, and Indian cuisines. Here are some must-try foods in Goa:\n\n1. **Seafood**: Being a coastal state, Goa offers an array of fresh seafood dishes. Try fish curry, fish fry, prawns, lobsters, and crab.\n2. **Prawn Curry**: A classic Goan dish made with prawns, coconut milk, and spices.\n3. **Fish Thali**: A traditional meal consisting of fish curry, rice, and vegetables.\n4. **Beef Chilly**: A spicy dish made with beef, onions, and chilies.\n5. **Chicken Cafreal**: A Portuguese-inspired dish made with marinated chicken, served with rice and potatoes.\n6. **Vindaloo**: A popular curry dish made with meat (usually pork or chicken), vinegar, and spices.\n7. **Xacuti**: A rich and flavorful curry made with chicken or beef, and a blend of spices.\n8. **local snacks**: Try the famous Goan pao (bread), accompanied by bhaji (fritters) or misal (a spicy curry).\n9. **Feni**: A local spirit made from cashew or palm sap. Try it with lime and soda for a unique experience.\n\nNow, let's explore some popular restaurants in Goa:\n\n**Beachside Eats:**\n\n1. **La Plage** (Ashwem Beach): Savor French-Goan cuisine with a stunning beach view.\n2. **Gunpowder** (Assagao): Enjoy South Indian and Konkani dishes in a rustic setting.\n\n**Nightlife Hotspots:**\n\n1. **Café Mambo** (Baga Beach): A popular spot for seafood, cocktails, and live music.\n2. **Sinq** (Candolim): A trendy restaurant and bar serving international cuisine.\n\n**Local Favorites:**\n\n1. **Hill Top** (Vagator): A laid-back restaurant serving Goan and international dishes.\n2. **Infantaria** (Calangute): A popular bakery and café serving delicious pastries and sandwiches.\n3. **Lila Café** (Baga): A cozy café serving healthy food, smoothies, and desserts**.\n\nRemember to also try some local street food and markets, like the **Mapusa Market**, to experience the authentic flavors of Goa.\n\nEnjoy your food adventure in this beautiful beach state!\n"
          },
          "metadata": {}
        },
        {
          "output_type": "display_data",
          "data": {
            "text/plain": [
              "<IPython.core.display.HTML object>"
            ],
            "text/html": [
              "<div style='display:inline-block;margin:10px;text-align:center'><img src='https://picsum.photos/seed/beach/600/400' width='250' height='160' style='border-radius:10px;'/><br><p style='font-size:14px'>beach</p></div><div style='display:inline-block;margin:10px;text-align:center'><img src='https://picsum.photos/seed/nightlife/600/400' width='250' height='160' style='border-radius:10px;'/><br><p style='font-size:14px'>nightlife</p></div><div style='display:inline-block;margin:10px;text-align:center'><img src='https://picsum.photos/seed/food/600/400' width='250' height='160' style='border-radius:10px;'/><br><p style='font-size:14px'>food</p></div>"
            ]
          },
          "metadata": {}
        }
      ]
    },
    {
      "cell_type": "code",
      "source": [],
      "metadata": {
        "id": "Lml2R6YHQobj"
      },
      "execution_count": null,
      "outputs": []
    }
  ]
}